{
  "nbformat": 4,
  "nbformat_minor": 0,
  "metadata": {
    "colab": {
      "name": "AV_cross_Sell_CatBoost.ipynb",
      "provenance": [],
      "collapsed_sections": []
    },
    "kernelspec": {
      "name": "python3",
      "display_name": "Python 3"
    },
    "accelerator": "GPU"
  },
  "cells": [
    {
      "cell_type": "code",
      "metadata": {
        "id": "RwFQQcupRPBr",
        "colab_type": "code",
        "colab": {
          "base_uri": "https://localhost:8080/",
          "height": 343
        },
        "outputId": "9d00b87b-a489-4d59-d3a1-7e51c1c5a3ae"
      },
      "source": [
        "pip install catboost"
      ],
      "execution_count": 5,
      "outputs": [
        {
          "output_type": "stream",
          "text": [
            "Collecting catboost\n",
            "\u001b[?25l  Downloading https://files.pythonhosted.org/packages/90/86/c3dcb600b4f9e7584ed90ea9d30a717fb5c0111574675f442c3e7bc19535/catboost-0.24.1-cp36-none-manylinux1_x86_64.whl (66.1MB)\n",
            "\u001b[K     |████████████████████████████████| 66.1MB 45kB/s \n",
            "\u001b[?25hRequirement already satisfied: numpy>=1.16.0 in /usr/local/lib/python3.6/dist-packages (from catboost) (1.18.5)\n",
            "Requirement already satisfied: graphviz in /usr/local/lib/python3.6/dist-packages (from catboost) (0.10.1)\n",
            "Requirement already satisfied: matplotlib in /usr/local/lib/python3.6/dist-packages (from catboost) (3.2.2)\n",
            "Requirement already satisfied: pandas>=0.24.0 in /usr/local/lib/python3.6/dist-packages (from catboost) (1.0.5)\n",
            "Requirement already satisfied: scipy in /usr/local/lib/python3.6/dist-packages (from catboost) (1.4.1)\n",
            "Requirement already satisfied: plotly in /usr/local/lib/python3.6/dist-packages (from catboost) (4.4.1)\n",
            "Requirement already satisfied: six in /usr/local/lib/python3.6/dist-packages (from catboost) (1.15.0)\n",
            "Requirement already satisfied: cycler>=0.10 in /usr/local/lib/python3.6/dist-packages (from matplotlib->catboost) (0.10.0)\n",
            "Requirement already satisfied: pyparsing!=2.0.4,!=2.1.2,!=2.1.6,>=2.0.1 in /usr/local/lib/python3.6/dist-packages (from matplotlib->catboost) (2.4.7)\n",
            "Requirement already satisfied: python-dateutil>=2.1 in /usr/local/lib/python3.6/dist-packages (from matplotlib->catboost) (2.8.1)\n",
            "Requirement already satisfied: kiwisolver>=1.0.1 in /usr/local/lib/python3.6/dist-packages (from matplotlib->catboost) (1.2.0)\n",
            "Requirement already satisfied: pytz>=2017.2 in /usr/local/lib/python3.6/dist-packages (from pandas>=0.24.0->catboost) (2018.9)\n",
            "Requirement already satisfied: retrying>=1.3.3 in /usr/local/lib/python3.6/dist-packages (from plotly->catboost) (1.3.3)\n",
            "Installing collected packages: catboost\n",
            "Successfully installed catboost-0.24.1\n"
          ],
          "name": "stdout"
        }
      ]
    },
    {
      "cell_type": "code",
      "metadata": {
        "id": "0Rjzq9SFRHw9",
        "colab_type": "code",
        "colab": {}
      },
      "source": [
        "from sklearn.model_selection import train_test_split, KFold, StratifiedKFold\n",
        "from sklearn.metrics import accuracy_score\n",
        "from sklearn.ensemble import RandomForestClassifier\n",
        "from sklearn.linear_model import LogisticRegression\n",
        "from lightgbm import LGBMClassifier\n",
        "from catboost import CatBoostClassifier\n",
        "from sklearn.metrics import roc_auc_score\n",
        "import pandas as pd\n",
        "from xgboost import XGBClassifier\n",
        "from sklearn.model_selection import train_test_split\n",
        "import numpy as np"
      ],
      "execution_count": 13,
      "outputs": []
    },
    {
      "cell_type": "code",
      "metadata": {
        "id": "1Kumf-T4NYJJ",
        "colab_type": "code",
        "colab": {}
      },
      "source": [
        "df_train = pd.read_csv('train.csv')\n",
        "df_test = pd.read_csv('test.csv')"
      ],
      "execution_count": 55,
      "outputs": []
    },
    {
      "cell_type": "code",
      "metadata": {
        "id": "ZZXnIWwvYJrD",
        "colab_type": "code",
        "colab": {}
      },
      "source": [
        "df_train['Driving_License'] = \"D_\" + df_train['Driving_License'].astype(str)\n",
        "df_train['Region_Code'] = \"D_\" + df_train['Region_Code'].astype(str)\n",
        "df_train['Policy_Sales_Channel'] = \"D_\" + df_train['Policy_Sales_Channel'].astype(str)\n",
        "\n",
        "df_test['Driving_License'] = \"D_\" + df_test['Driving_License'].astype(str)\n",
        "df_test['Region_Code'] = \"D_\" + df_test['Region_Code'].astype(str)\n",
        "df_test['Policy_Sales_Channel'] = \"D_\" + df_test['Policy_Sales_Channel'].astype(str)\n",
        "\n",
        "\n",
        "mp_2 = {'Yes':0, 'No':1}\n",
        "df_train['Vehicle_Damage'] = df_train['Vehicle_Damage'].map(mp_2)\n",
        "df_test['Vehicle_Damage'] = df_test['Vehicle_Damage'].map(mp_2)\n",
        "\n",
        "mp_3 = {'< 1 Year': 0, '1-2 Year':1, '> 2 Years':2}\n",
        "df_train['Vehicle_Age'] = df_train['Vehicle_Age'].map(mp_3)\n",
        "df_test['Vehicle_Age'] = df_test['Vehicle_Age'].map(mp_3)"
      ],
      "execution_count": 15,
      "outputs": []
    },
    {
      "cell_type": "code",
      "metadata": {
        "id": "maA4LwshQNrk",
        "colab_type": "code",
        "colab": {}
      },
      "source": [
        "test_id = df_test.id.values\n",
        "train_id = df_train.id.values\n",
        "df_train.drop(['id'], axis=1, inplace=True)\n",
        "df_test.drop(['id'], axis=1, inplace=True)"
      ],
      "execution_count": 56,
      "outputs": []
    },
    {
      "cell_type": "code",
      "metadata": {
        "id": "7FZD2DYDInVS",
        "colab_type": "code",
        "colab": {}
      },
      "source": [
        "df_train['Age_premium'] = df_train['Age']/df_train['Annual_Premium']\n",
        "df_test['Age_premium'] = df_test['Age']/df_test['Annual_Premium']\n",
        "\n",
        "df_train['Prev_insured_vehicle_damage'] = df_train['Previously_Insured'].astype(str) + \"_\" +  df_train['Vehicle_Damage'].astype(str)\n",
        "df_test['Prev_insured_vehicle_damage'] = df_test['Previously_Insured'].astype(str) + \"_\" + df_test['Vehicle_Damage'].astype(str)"
      ],
      "execution_count": 58,
      "outputs": []
    },
    {
      "cell_type": "code",
      "metadata": {
        "id": "yohOT6CC_v_y",
        "colab_type": "code",
        "colab": {}
      },
      "source": [
        "#age limit\n",
        "\n",
        "df_train['Age_limit'] = [1 if i<18 or i>65 else 0 for i in df_train['Age'].values]\n",
        "df_test['Age_limit'] = [1 if i<18 or i>65 else 0 for i in df_test['Age'].values]"
      ],
      "execution_count": 59,
      "outputs": []
    },
    {
      "cell_type": "code",
      "metadata": {
        "id": "9L8gWFl3yG_O",
        "colab_type": "code",
        "colab": {}
      },
      "source": [
        "feats = ['Age_limit','Prev_insured_vehicle_damage','Age_premium','Previously_Insured', 'Vehicle_Damage', 'Policy_Sales_Channel', 'Age', 'Vehicle_Age', 'Region_Code', 'Gender']"
      ],
      "execution_count": 69,
      "outputs": []
    },
    {
      "cell_type": "code",
      "metadata": {
        "id": "eYquB1HBQdbJ",
        "colab_type": "code",
        "colab": {}
      },
      "source": [
        "X_train, X_test, Y = df_train[feats].values, df_test[feats].values, df_train[\"Response\"].values"
      ],
      "execution_count": 70,
      "outputs": []
    },
    {
      "cell_type": "code",
      "metadata": {
        "id": "v7jVy2OcQqWJ",
        "colab_type": "code",
        "colab": {}
      },
      "source": [
        "kfold, scores = KFold(n_splits=5, shuffle=True, random_state=0), list()\n",
        "for training, testing in kfold.split(X_train):\n",
        "    x_train, x_test = X_train[training], X_train[testing]\n",
        "    y_train, y_test = Y[training], Y[testing]\n",
        "    \n",
        "    model = CatBoostClassifier(random_state=27, verbose=500, task_type='GPU')\n",
        "    model.fit(X_train, Y, cat_features=[feats.index(\"Age_limit\"),feats.index(\"Prev_insured_vehicle_damage\"),feats.index(\"Gender\"), feats.index(\"Region_Code\"), feats.index(\"Policy_Sales_Channel\")])\n",
        "    preds = np.array(model.predict_proba(x_test))\n",
        "\n",
        "    score = roc_auc_score(y_test, preds[:,-1])\n",
        "    scores.append(score)\n",
        "    print(score)\n",
        "print(\"Average: \", sum(scores)/len(scores))"
      ],
      "execution_count": null,
      "outputs": []
    },
    {
      "cell_type": "code",
      "metadata": {
        "id": "-QMkZ2loQ0Q4",
        "colab_type": "code",
        "colab": {}
      },
      "source": [
        "feat_imp = pd.Series(model.feature_importances_, index=df_train[feats].columns)\n",
        "feat_imp.nlargest(30).plot(kind='barh', figsize=(8,10))"
      ],
      "execution_count": null,
      "outputs": []
    },
    {
      "cell_type": "code",
      "metadata": {
        "id": "3GHxn2bTSVsR",
        "colab_type": "code",
        "colab": {}
      },
      "source": [
        "\n",
        "model = CatBoostClassifier(random_state=27, verbose=500)\n",
        "model.fit(X_train, Y, cat_features=[feats.index(\"Age_limit\"),feats.index(\"Prev_insured_vehicle_damage\"),feats.index(\"Gender\"), feats.index(\"Region_Code\"), feats.index(\"Policy_Sales_Channel\")])\n",
        "preds = np.array(model.predict_proba(X_test))\n",
        "df_submit = pd.DataFrame({'id':test_id,'Response': preds[:,-1]})\n",
        "df_submit.to_csv(\"submit_cat.csv\", index=False)"
      ],
      "execution_count": null,
      "outputs": []
    }
  ]
}