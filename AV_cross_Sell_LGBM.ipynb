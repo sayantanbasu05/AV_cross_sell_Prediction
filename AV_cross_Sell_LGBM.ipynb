{
  "nbformat": 4,
  "nbformat_minor": 0,
  "metadata": {
    "colab": {
      "name": "AV_cross_Sell_LGBM.ipynb",
      "provenance": []
    },
    "kernelspec": {
      "name": "python3",
      "display_name": "Python 3"
    }
  },
  "cells": [
    {
      "cell_type": "code",
      "metadata": {
        "id": "guh0s5oDrROZ",
        "colab_type": "code",
        "colab": {}
      },
      "source": [
        "from sklearn.model_selection import train_test_split, KFold, StratifiedKFold\n",
        "from sklearn.metrics import accuracy_score\n",
        "from sklearn.ensemble import RandomForestClassifier\n",
        "from sklearn.linear_model import LogisticRegression\n",
        "from lightgbm import LGBMClassifier\n",
        "from sklearn.metrics import roc_auc_score\n",
        "import pandas as pd\n",
        "from xgboost import XGBClassifier\n",
        "from sklearn.model_selection import train_test_split\n",
        "import numpy as np"
      ],
      "execution_count": null,
      "outputs": []
    },
    {
      "cell_type": "code",
      "metadata": {
        "id": "Bu0p95dgrbua",
        "colab_type": "code",
        "colab": {}
      },
      "source": [
        "df_train = pd.read_csv('train.csv')\n",
        "df_test = pd.read_csv('test.csv')"
      ],
      "execution_count": null,
      "outputs": []
    },
    {
      "cell_type": "code",
      "metadata": {
        "id": "ED95hu7frfEi",
        "colab_type": "code",
        "colab": {}
      },
      "source": [
        "test_id = df_test.id.values\n",
        "train_id = df_train.id.values\n",
        "df_train.drop(['id'], axis=1, inplace=True)\n",
        "df_test.drop(['id'], axis=1, inplace=True)"
      ],
      "execution_count": null,
      "outputs": []
    },
    {
      "cell_type": "code",
      "metadata": {
        "id": "QHB5kHuVrkxN",
        "colab_type": "code",
        "colab": {}
      },
      "source": [
        "mp = {'Male':0, 'Female':1}\n",
        "mp_2 = {'Yes':0, 'No':1}\n",
        "mp_3 = {'< 1 Year': 0, '1-2 Year':1, '> 2 Years':2}\n",
        "\n",
        "df_train['Gender'] = df_train['Gender'].map(mp)\n",
        "df_test['Gender'] = df_test['Gender'].map(mp)\n",
        "\n",
        "df_train['Vehicle_Damage'] = df_train['Vehicle_Damage'].map(mp_2)\n",
        "df_test['Vehicle_Damage'] = df_test['Vehicle_Damage'].map(mp_2)\n",
        "\n",
        "\n",
        "df_train['Vehicle_Age'] = df_train['Vehicle_Age'].map(mp_3)\n",
        "df_test['Vehicle_Age'] = df_test['Vehicle_Age'].map(mp_3)"
      ],
      "execution_count": null,
      "outputs": []
    },
    {
      "cell_type": "code",
      "metadata": {
        "id": "OZ18laUIrru7",
        "colab_type": "code",
        "colab": {}
      },
      "source": [
        "df_train['Age_premium'] = df_train['Age']/df_train['Annual_Premium']\n",
        "df_test['Age_premium'] = df_test['Age']/df_test['Annual_Premium']\n",
        "\n",
        "df_train['Prev_insured_vehicle_damage'] = df_train['Previously_Insured'].astype(str) + \"_\" +  df_train['Vehicle_Damage'].astype(str)\n",
        "df_test['Prev_insured_vehicle_damage'] = df_test['Previously_Insured'].astype(str) + \"_\" + df_test['Vehicle_Damage'].astype(str)"
      ],
      "execution_count": null,
      "outputs": []
    },
    {
      "cell_type": "code",
      "metadata": {
        "id": "j29yyyKFrsqI",
        "colab_type": "code",
        "colab": {}
      },
      "source": [
        "#age limit\n",
        "\n",
        "df_train['Age_limit'] = [1 if i<18 or i>65 else 0 for i in df_train['Age'].values]\n",
        "df_test['Age_limit'] = [1 if i<18 or i>65 else 0 for i in df_test['Age'].values]"
      ],
      "execution_count": null,
      "outputs": []
    },
    {
      "cell_type": "code",
      "metadata": {
        "id": "Ot6JeL72rwDZ",
        "colab_type": "code",
        "colab": {}
      },
      "source": [
        "#find average premium with respect to region code\n",
        "\n",
        "region = df_train['Policy_Sales_Channel'].values\n",
        "print(len(region))\n",
        "region = np.append(region,df_test['Policy_Sales_Channel'].values)\n",
        "print(len(region))\n",
        "\n",
        "ap = df_train['Annual_Premium'].values\n",
        "print(len(ap))\n",
        "ap = np.append(ap,df_test['Annual_Premium'].values)\n",
        "print(len(ap))\n",
        "\n",
        "df_temp = pd.DataFrame({'Policy_Sales_Channel':region, 'Annual_Premium':ap})\n",
        "\n",
        "k = df_temp.groupby('Policy_Sales_Channel')['Annual_Premium'].mean()\n",
        "index = k.index.values\n",
        "print(index)\n",
        "values = k.values\n",
        "print(values)\n",
        "\n",
        "map_reg = {}\n",
        "\n",
        "for i in range(len(index)):\n",
        "  map_reg[index[i]] = values[i]\n",
        "\n",
        "df_train['Policy_premium'] = df_train['Policy_Sales_Channel'].map(map_reg)\n",
        "df_test['Policy_premium'] = df_test['Policy_Sales_Channel'].map(map_reg)"
      ],
      "execution_count": null,
      "outputs": []
    },
    {
      "cell_type": "code",
      "metadata": {
        "id": "3dWkDWZpr2Xj",
        "colab_type": "code",
        "colab": {}
      },
      "source": [
        "#find average experience with respect to region code\n",
        "\n",
        "region = df_train['Age'].values\n",
        "print(len(region))\n",
        "region = np.append(region,df_test['Age'].values)\n",
        "print(len(region))\n",
        "\n",
        "ap = df_train['Vehicle_Damage'].values\n",
        "print(len(ap))\n",
        "ap = np.append(ap,df_test['Vehicle_Damage'].values)\n",
        "print(len(ap))\n",
        "\n",
        "df_temp = pd.DataFrame({'Age':region, 'Vehicle_Damage':ap})\n",
        "\n",
        "k = df_temp.groupby('Age')['Vehicle_Damage'].mean()\n",
        "index = k.index.values\n",
        "print(index)\n",
        "values = k.values\n",
        "print(values)\n",
        "\n",
        "map_reg = {}\n",
        "\n",
        "for i in range(len(index)):\n",
        "  map_reg[index[i]] = values[i]\n",
        "\n",
        "df_train['Experience'] = df_train['Age'].map(map_reg)\n",
        "df_test['Experience'] = df_test['Age'].map(map_reg)"
      ],
      "execution_count": null,
      "outputs": []
    },
    {
      "cell_type": "code",
      "metadata": {
        "id": "hXysZoOCr5f2",
        "colab_type": "code",
        "colab": {}
      },
      "source": [
        "feats = ['Total_premium','Experience','Policy_premium','Age_limit','Prev_insured_vehicle_damage','Age_premium','Previously_Insured', 'Vehicle_Damage', 'Policy_Sales_Channel', 'Age', 'Vehicle_Age', 'Region_Code', 'Gender']"
      ],
      "execution_count": null,
      "outputs": []
    },
    {
      "cell_type": "code",
      "metadata": {
        "id": "C5akc36Gr73L",
        "colab_type": "code",
        "colab": {}
      },
      "source": [
        "X_train, X_test, Y = df_train[feats].values, df_test[feats].values, df_train[\"Response\"].values"
      ],
      "execution_count": null,
      "outputs": []
    },
    {
      "cell_type": "code",
      "metadata": {
        "id": "n93V6mRrsJtM",
        "colab_type": "code",
        "colab": {}
      },
      "source": [
        "kfold, scores = KFold(n_splits=5, shuffle=True, random_state=0), list()\n",
        "for training, testing in kfold.split(X_train):\n",
        "    x_train, x_test = X_train[training], X_train[testing]\n",
        "    y_train, y_test = Y[training], Y[testing]\n",
        "    \n",
        "    model = LGBMClassifier(random_state=22)\n",
        "    model.fit(X_train, Y, categorical_feature=[feats.index(\"Age_limit\"),feats.index(\"Prev_insured_vehicle_damage\"),feats.index(\"Gender\"), feats.index(\"Region_Code\"), feats.index(\"Policy_Sales_Channel\")])\n",
        "    preds = np.array(model.predict_proba(x_test))\n",
        "    score = roc_auc_score(y_test, preds[:,-1])\n",
        "    scores.append(score)\n",
        "    print(score)\n",
        "print(\"Average: \", sum(scores)/len(scores))"
      ],
      "execution_count": null,
      "outputs": []
    },
    {
      "cell_type": "code",
      "metadata": {
        "id": "OJMZ8KRNsTzs",
        "colab_type": "code",
        "colab": {}
      },
      "source": [
        "feat_imp = pd.Series(model.feature_importances_, index=df_train[feats].columns)\n",
        "feat_imp.nlargest(30).plot(kind='barh', figsize=(8,10))"
      ],
      "execution_count": null,
      "outputs": []
    },
    {
      "cell_type": "code",
      "metadata": {
        "id": "yf3HNHZrsfF0",
        "colab_type": "code",
        "colab": {}
      },
      "source": [
        "#oof predictions lgbm\n",
        "import numpy as np\n",
        "\n",
        "i=0\n",
        "setused=X_train\n",
        "targ=Y\n",
        "\n",
        "scores=[]\n",
        "splits=7\n",
        "\n",
        "cnf_matrix=[]\n",
        "sc = 0\n",
        "kfold, scores = KFold(n_splits=splits,random_state=True), list()\n",
        "for train2, test2 in kfold.split(setused,targ):\n",
        "    x_train, x_test = setused[train2], setused[test2]\n",
        "    y_train, y_test = targ[train2], targ[test2]\n",
        "    eval_set = [(x_test,y_test)]\n",
        "    model = LGBMClassifier(random_state=22)\n",
        "    model.fit(x_train, y_train, categorical_feature=[feats.index(\"Age_limit\"),feats.index(\"Prev_insured_vehicle_damage\"),feats.index(\"Gender\"), feats.index(\"Region_Code\"), feats.index(\"Policy_Sales_Channel\")])\n",
        "    preds = np.array(model.predict_proba(x_test))\n",
        "    score = roc_auc_score(y_test, preds[:,-1])\n",
        "    scores.append(score)\n",
        "    print(score)    \n",
        "    sc += 1\n",
        "    if i == 0:\n",
        "      oof_preds = model.predict_proba(X_test)\n",
        "      i += 1\n",
        "    else:\n",
        "      oof_preds += model.predict_proba(X_test)\n",
        "oof_preds = oof_preds/sc\n",
        "\n",
        "print(\"Average: \", np.sum(scores)/len(scores))\n",
        "\n",
        "df_submit = pd.DataFrame({'id':test_id,'Response': oof_preds[:,-1]})\n",
        "df_submit.to_csv(\"submit_lgbm.csv\", index=False)"
      ],
      "execution_count": null,
      "outputs": []
    },
    {
      "cell_type": "code",
      "metadata": {
        "id": "idE9scnQsj1t",
        "colab_type": "code",
        "colab": {}
      },
      "source": [
        "model = LGBMClassifier(random_state=22)\n",
        "model.fit(X_train, Y, categorical_feature=[feats.index(\"Age_limit\"),feats.index(\"Prev_insured_vehicle_damage\"),feats.index(\"Gender\"), feats.index(\"Region_Code\"), feats.index(\"Policy_Sales_Channel\")])\n",
        "preds = np.array(model.predict_proba(X_test))\n",
        "df_submit = pd.DataFrame({'id':test_id,'Response': preds[:,-1]})\n",
        "df_submit.to_csv(\"submit_cat.csv\", index=False)"
      ],
      "execution_count": null,
      "outputs": []
    }
  ]
}